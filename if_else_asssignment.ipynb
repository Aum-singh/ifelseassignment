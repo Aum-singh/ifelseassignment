{
 "cells": [
  {
   "cell_type": "markdown",
   "id": "e7eba8e6-1e39-434e-b6f3-53f2b53bb38f",
   "metadata": {},
   "source": [
    "## IF ELSE ASSIGNMENT"
   ]
  },
  {
   "cell_type": "markdown",
   "id": "cd47826d-fb7d-4372-82c7-d4900dfd2974",
   "metadata": {},
   "source": [
    "Q1. Write a program to calculate the electricity bill"
   ]
  },
  {
   "cell_type": "code",
   "execution_count": 6,
   "id": "19b57dc3-c77c-46ec-9655-e2015abba783",
   "metadata": {},
   "outputs": [
    {
     "name": "stdin",
     "output_type": "stream",
     "text": [
      "Enter the no. of units:  150\n"
     ]
    },
    {
     "name": "stdout",
     "output_type": "stream",
     "text": [
      "The bill generated is of Rs.250/-\n"
     ]
    }
   ],
   "source": [
    "unit = int(input(\"Enter the no. of units: \"))\n",
    "\n",
    "if unit <= 100:\n",
    "    amount = 0\n",
    "    print(f\"The bill generated is of Rs.{amount}/-\")\n",
    "    \n",
    "elif unit <= 200:\n",
    "    amount = 5*(unit -100)\n",
    "    print(f\"The bill generated is of Rs.{amount}/-\")\n",
    "   \n",
    "elif unit > 200:\n",
    "    amount = 500 + ((unit - 200) * 10)\n",
    "    print(f\"The bill generated is of Rs.{amount}/-\")"
   ]
  },
  {
   "cell_type": "markdown",
   "id": "482fe08d-395e-4f2e-bf3d-39c8416a2a4e",
   "metadata": {},
   "source": [
    "Q2. Write a program to accept percentage from the user"
   ]
  },
  {
   "cell_type": "code",
   "execution_count": 22,
   "id": "23815620-67b8-4a7a-af0e-8d51a7a50733",
   "metadata": {},
   "outputs": [
    {
     "name": "stdin",
     "output_type": "stream",
     "text": [
      "Enter your percentage:  70\n"
     ]
    },
    {
     "name": "stdout",
     "output_type": "stream",
     "text": [
      "Grade C\n"
     ]
    }
   ],
   "source": [
    "per = int(input(\"Enter your percentage: \"))\n",
    "\n",
    "if per> 90:\n",
    "    print(\"Grade A\")    \n",
    "elif per >80 and per <= 90:\n",
    "    print(\"Grade B\")\n",
    "elif per >= 60 and per <= 80:\n",
    "    print(\"Grade C\")\n",
    "elif per < 60:\n",
    "    print(\"Grade D\")"
   ]
  },
  {
   "cell_type": "markdown",
   "id": "a5a3eeab-9e39-4cc3-be9d-2d4c1d04e802",
   "metadata": {},
   "source": [
    "Q3. Accept the age of 4 people and display the youngest one?"
   ]
  },
  {
   "cell_type": "code",
   "execution_count": 57,
   "id": "eff3aef2-5a4f-4efb-8382-839cd8087b97",
   "metadata": {},
   "outputs": [
    {
     "name": "stdin",
     "output_type": "stream",
     "text": [
      "Enter age of a:  90\n",
      "Enter age of b:  67\n",
      "Enter age of c:  454\n",
      "Enter age of d:  34\n"
     ]
    },
    {
     "name": "stdout",
     "output_type": "stream",
     "text": [
      "d is the youngest.\n"
     ]
    }
   ],
   "source": [
    "a = int(input(\"Enter age of a: \"))\n",
    "b = int(input(\"Enter age of b: \"))\n",
    "c = int(input(\"Enter age of c: \"))\n",
    "d = int(input(\"Enter age of d: \"))\n",
    "\n",
    "if a < b and a < c and a < d:\n",
    "    print(\"a is the youngeset.\")\n",
    "elif b < c and b < a and b < d:\n",
    "    print(\"b is the youngest.\")\n",
    "elif c < d and c < a and c < b:\n",
    "    print(\"c is the youngest.\")\n",
    "else:\n",
    "    print(\"d is the youngest.\")"
   ]
  },
  {
   "cell_type": "markdown",
   "id": "4d55fa6b-ac51-4d53-94b0-0f14ccf798df",
   "metadata": {},
   "source": [
    "Q.5 The second largest number"
   ]
  },
  {
   "cell_type": "code",
   "execution_count": 64,
   "id": "52b8ddf6-fa91-45c9-9281-213616303119",
   "metadata": {},
   "outputs": [
    {
     "name": "stdin",
     "output_type": "stream",
     "text": [
      "Enter first number:  12\n",
      "Enter second number:  34\n",
      "Enter third number:  56\n"
     ]
    },
    {
     "name": "stdout",
     "output_type": "stream",
     "text": [
      "The second largest number is: 34\n"
     ]
    }
   ],
   "source": [
    "a = int(input(\"Enter first number: \"))\n",
    "b = int(input(\"Enter second number: \"))\n",
    "c = int(input(\"Enter third number: \"))\n",
    "\n",
    "if (a > b and a < c) or (a < b and a > c):\n",
    "    second_largest = a\n",
    "elif (b > a and b < c) or (b < a and b > c):\n",
    "    second_largest = b\n",
    "else:\n",
    "    second_largest = c\n",
    "\n",
    "print(\"The second largest number is:\", second_largest)"
   ]
  },
  {
   "cell_type": "markdown",
   "id": "536614e7-eb2e-4c93-a060-f9800ec62f8a",
   "metadata": {},
   "source": [
    "Q.6 Calculate the net price."
   ]
  },
  {
   "cell_type": "code",
   "execution_count": 46,
   "id": "fb27edc8-5a95-4232-ac9e-d920c733b62f",
   "metadata": {},
   "outputs": [
    {
     "name": "stdin",
     "output_type": "stream",
     "text": [
      "Enter the marked price:  9500\n"
     ]
    },
    {
     "name": "stdout",
     "output_type": "stream",
     "text": [
      "The net price is:  8075.0\n"
     ]
    }
   ],
   "source": [
    "mp = int(input(\"Enter the marked price: \"))\n",
    "\n",
    "if mp > 10000:\n",
    "    np = mp - ((20/100)* mp)\n",
    "    print(\"The net price is: \", np)\n",
    "elif 7000 < mp <= 10000:\n",
    "    np = mp - ((15/100)* mp)\n",
    "    print(\"The net price is: \", np)\n",
    "elif mp <= 7000:\n",
    "    np = mp - ((10/100)* mp)\n",
    "    print(\"The net price is: \", np)"
   ]
  },
  {
   "cell_type": "markdown",
   "id": "bba017d4-f3f4-4bce-88c1-ad3c5b9832cd",
   "metadata": {},
   "source": [
    "Q7. Accept the marks and display the stream allotted."
   ]
  },
  {
   "cell_type": "code",
   "execution_count": 53,
   "id": "6ee75197-2113-4ac4-8edf-3ce17f61f70f",
   "metadata": {},
   "outputs": [
    {
     "name": "stdin",
     "output_type": "stream",
     "text": [
      "Enter marks in English:  90\n",
      "Enter marks in Math:  90\n",
      "Enter marks in Science:  90\n",
      "Enter marks in Social Studies:  90\n"
     ]
    },
    {
     "name": "stdout",
     "output_type": "stream",
     "text": [
      "SCIENCE Stream\n"
     ]
    }
   ],
   "source": [
    "english = int(input(\"Enter marks in English: \"))\n",
    "math = int(input(\"Enter marks in Math: \"))\n",
    "science = int(input(\"Enter marks in Science: \"))\n",
    "social = int(input(\"Enter marks in Social Studies: \"))\n",
    "\n",
    "if english > 80 and math > 80 and science > 80 and social > 80:\n",
    "    print(\"SCIENCE Stream\")\n",
    "elif english > 80 and math > 50 and science > 50:\n",
    "    print(\"COMMERCE Stream\")\n",
    "elif english > 80 and social > 80:\n",
    "    print(\"HUMANITIES Stream\")\n",
    "else:\n",
    "    print(\"Sorry! NO STREAM ALLOTED\")"
   ]
  },
  {
   "cell_type": "markdown",
   "id": "50b3fb39-58a3-4ce8-9556-433722318059",
   "metadata": {},
   "source": [
    "Q.8 A multiple of five"
   ]
  },
  {
   "cell_type": "code",
   "execution_count": 11,
   "id": "3f391ea7-bab3-4f4b-a0e9-0ea619331f5a",
   "metadata": {},
   "outputs": [
    {
     "name": "stdin",
     "output_type": "stream",
     "text": [
      "Enter a number:  80\n"
     ]
    },
    {
     "name": "stdout",
     "output_type": "stream",
     "text": [
      "HELLO!\n"
     ]
    }
   ],
   "source": [
    "num = int(input(\"Enter a number: \"))\n",
    "\n",
    "if num % 5 == 0:\n",
    "    print(\"HELLO!\")\n",
    "else:\n",
    "    print(\"BYE!\")"
   ]
  },
  {
   "cell_type": "markdown",
   "id": "495bb4f2-341d-4dcb-af70-a5e67fe9aff2",
   "metadata": {},
   "source": [
    "Q9. Wheter the last digit is divisible by 3 or not?"
   ]
  },
  {
   "cell_type": "code",
   "execution_count": 18,
   "id": "29c95966-23c7-429d-a3de-668c02afafb9",
   "metadata": {},
   "outputs": [
    {
     "name": "stdin",
     "output_type": "stream",
     "text": [
      "Enter a number:  827\n"
     ]
    },
    {
     "name": "stdout",
     "output_type": "stream",
     "text": [
      "The last digit is not divisible by 3.\n"
     ]
    }
   ],
   "source": [
    "num = int(input(\"Enter a number: \"))\n",
    "\n",
    "last_digit = num % 10\n",
    "\n",
    "if last_digit % 3 == 0:\n",
    "    print(\"The last digit is divisible by 3.\")\n",
    "else:\n",
    "    print(\"The last digit is not divisible by 3.\")"
   ]
  },
  {
   "cell_type": "markdown",
   "id": "70118486-94a3-438f-8f74-4efd97eaa918",
   "metadata": {},
   "source": [
    "Q.10 Wheter a number is a 3 digit number or not?"
   ]
  },
  {
   "cell_type": "code",
   "execution_count": 33,
   "id": "5afc4995-2794-4ece-be8b-0283eff001e5",
   "metadata": {},
   "outputs": [
    {
     "name": "stdin",
     "output_type": "stream",
     "text": [
      "Enter a number:  44\n"
     ]
    },
    {
     "name": "stdout",
     "output_type": "stream",
     "text": [
      "The number is not a 3-digit number.\n"
     ]
    }
   ],
   "source": [
    "num = int(input(\"Enter a number: \"))\n",
    "\n",
    "if abs(num) >= 100 and abs(num) <= 999:\n",
    "    print(\"The number is a 3-digit number.\")\n",
    "else:\n",
    "    print(\"The number is not a 3-digit number.\")"
   ]
  },
  {
   "cell_type": "code",
   "execution_count": null,
   "id": "a33c1f9b-882b-424e-a5a7-c894495d3afa",
   "metadata": {},
   "outputs": [],
   "source": []
  }
 ],
 "metadata": {
  "kernelspec": {
   "display_name": "Python 3 (ipykernel)",
   "language": "python",
   "name": "python3"
  },
  "language_info": {
   "codemirror_mode": {
    "name": "ipython",
    "version": 3
   },
   "file_extension": ".py",
   "mimetype": "text/x-python",
   "name": "python",
   "nbconvert_exporter": "python",
   "pygments_lexer": "ipython3",
   "version": "3.12.4"
  }
 },
 "nbformat": 4,
 "nbformat_minor": 5
}
